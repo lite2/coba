{
  "nbformat": 4,
  "nbformat_minor": 0,
  "metadata": {
    "kernelspec": {
      "display_name": "Python 3",
      "language": "python",
      "name": "python3"
    },
    "language_info": {
      "codemirror_mode": {
        "name": "ipython",
        "version": 3
      },
      "file_extension": ".py",
      "mimetype": "text/x-python",
      "name": "python",
      "nbconvert_exporter": "python",
      "pygments_lexer": "ipython3",
      "version": "3.6.4"
    },
    "colab": {
      "name": "task4.ipynb",
      "provenance": []
    }
  },
  "cells": [
    {
      "cell_type": "markdown",
      "metadata": {
        "id": "mhNSxs0djEbu",
        "colab_type": "text"
      },
      "source": [
        "Credit: Ms Ong"
      ]
    },
    {
      "cell_type": "markdown",
      "metadata": {
        "id": "QJmfXIgUfy_C",
        "colab_type": "text"
      },
      "source": [
        "# Task 4.1"
      ]
    },
    {
      "cell_type": "code",
      "metadata": {
        "id": "cZQL-oXEfy_E",
        "colab_type": "code",
        "colab": {},
        "outputId": "1e703d78-e34f-4f8d-bb6e-2f97bbe88f8d"
      },
      "source": [
        "import pymongo\n",
        "import csv\n",
        "\n",
        "# connect to mongodb\n",
        "client = pymongo.MongoClient(\"127.0.0.1\", 27017)\n",
        "clinic = client.get_database(\"Clinic\")\n",
        "patient = clinic.get_collection(\"Patient\")\n",
        "\n",
        "# open and read from file\n",
        "with open (\"PATIENTS.txt\", \"r\") as patients_file:\n",
        "    patients_data = csv.reader(patients_file)\n",
        "    patients_data = [data for data in patients_data]\n",
        "   \n",
        "    for i in range(len(patients_data)):\n",
        "        data = patients_data[i]\n",
        "        patient_dict = {}\n",
        "        patient_dict[\"PatientID\"] = int(data[0]) # integer\n",
        "        patient_dict[\"Name\"] = data[1]\n",
        "        patient_dict[\"AppointmentDate\"] = data[2]\n",
        "        patient_dict[\"AppointmentStartTime\"] = data[3]\n",
        "        patient_dict[\"DoctorAssigned\"] = data[4]\n",
        "        patient_dict[\"RoomNumber\"] = data[5]\n",
        "        patient_dict[\"AmountCharged\"] = float(data[6])\n",
        "        patient.insert_one(patient_dict)\n",
        "\n",
        "print(\"Finished insertion!\")\n",
        "client.close()"
      ],
      "execution_count": null,
      "outputs": [
        {
          "output_type": "stream",
          "text": [
            "Finished insertion!\n"
          ],
          "name": "stdout"
        }
      ]
    },
    {
      "cell_type": "markdown",
      "metadata": {
        "id": "toFUe647fy_J",
        "colab_type": "text"
      },
      "source": [
        "# Task 4.2"
      ]
    },
    {
      "cell_type": "code",
      "metadata": {
        "id": "c-66-EKufy_K",
        "colab_type": "code",
        "colab": {},
        "outputId": "278efd22-1804-4319-bd22-5c6cf2098f1b"
      },
      "source": [
        "import pymongo\n",
        "import random\n",
        "\n",
        "def id_generator ():\n",
        "    client = pymongo.MongoClient(\"127.0.0.1\", 27017)\n",
        "    clinic = client.get_database(\"Clinic\")\n",
        "    patient = clinic.get_collection(\"Patient\")\n",
        "\n",
        "    ids = patient.find({}, {\"PatientID\": 1})\n",
        "    unique_ids = set()\n",
        "    for id_ in ids:\n",
        "    #     print(id_[\"PatientID\"])\n",
        "        unique_ids.add(id_[\"PatientID\"])\n",
        "    gen_id = False\n",
        "    while not gen_id:\n",
        "        new_id = random.randint(1, 100)\n",
        "        curr_length = len(unique_ids)\n",
        "        unique_ids.add(new_id)\n",
        "        if len(unique_ids) > curr_length:\n",
        "            gen_id = True\n",
        "    client.close()\n",
        "    return new_id\n",
        "\n",
        "print(\"Enter new patient:\")\n",
        "valids = {\"name\": False, \"appt_date\": False, \"appt_start_time\": False, \"doctor_assigned\": False}\n",
        "while not valids[\"name\"]:\n",
        "    name = input(\"Enter patient's name: \")\n",
        "    valid_name = True\n",
        "    for letter in name:\n",
        "        if (ord(letter) != ord(\" \")) and (not ord(\"A\") <= ord(letter) <= ord(\"Z\")) and (not ord(\"a\") <= ord(letter) <= ord(\"z\")):\n",
        "            valid_name = False\n",
        "            print(\"Expected only space and letters\")\n",
        "            break\n",
        "    valids[\"name\"] = valid_name\n",
        "while not valids[\"appt_date\"]:\n",
        "    valid_appt_date = True\n",
        "    appt_date = input(\"Enter appointment date in DDMMYYYY format: \")\n",
        "    if len(appt_date) != 8: # length check\n",
        "        print(\"Expected DDMMYYYY format!\")\n",
        "        valid_appt_date = False\n",
        "    else:\n",
        "        temp_appt_date = appt_date\n",
        "        try:\n",
        "            temp_appt_date = int(temp_appt_date) # data type check\n",
        "        except:\n",
        "            print(\"Expected integer format in DDMMYYYY!\")\n",
        "            valid_appt_date = False\n",
        "    if valid_appt_date:\n",
        "        # check range\n",
        "        days = int(appt_date[:2])\n",
        "        months = int(appt_date[2:4])\n",
        "        years = int(appt_date[4:])\n",
        "        # even months only have 30 days\n",
        "        if (not 1 <= months <= 12 or not 0 <= days <= 31 or not years >= 2020\n",
        "            or (months % 2 == 0 and days > 30) or (months == 2 and days > 29)): # special case for feb\n",
        "            print(\"Enter valid date!\")\n",
        "            valid_appt_date = False\n",
        "    valids[\"appt_date\"] = valid_appt_date\n",
        "while not valids[\"appt_start_time\"]:\n",
        "    valid_appt_start_time = True\n",
        "    appt_start_time = input(\"Enter appointment start time in 24hr HHMM format: \")\n",
        "    if len(appt_start_time) != 4: # length check\n",
        "        print(\"Expected a HHMM format!\")\n",
        "        valid_appt_start_time = False\n",
        "    else:\n",
        "        temp_appt_start_time = appt_start_time\n",
        "        try:\n",
        "            temp_appt_start_time = int(appt_start_time)\n",
        "        except:\n",
        "            print(\"Expected integer format in HHMM!\")\n",
        "            valid_appt_start_time = False\n",
        "    if valid_appt_start_time:\n",
        "        hrs = int(appt_start_time[:2])\n",
        "        mins = int(appt_start_time[2:])\n",
        "        if not 0 <= hrs <= 24 or not 0 <= mins <= 60:\n",
        "            print(\"Expected a valid time!\")\n",
        "            valid_appt_start_time = False\n",
        "    valids[\"appt_start_time\"] = valid_appt_start_time\n",
        "\n",
        "while not valids[\"doctor_assigned\"]:\n",
        "    doctor_assigned = input(\"Enter doctor assigned: \")\n",
        "    if doctor_assigned == \"Doctor 1\" or doctor_assigned == \"Doctor 2\" or doctor_assigned == \"Doctor 3\":\n",
        "        # data check\n",
        "        valids[\"doctor_assigned\"] = True\n",
        "    else:\n",
        "        print(\"Expected either Doctor 1, Doctor 2 or Doctor 3!\")\n",
        "    \n",
        "            \n",
        "print(\"-\" * 30)\n",
        "\n",
        "# connect to mongodb\n",
        "client = pymongo.MongoClient(\"127.0.0.1\", 27017)\n",
        "clinic = client.get_database(\"Clinic\")\n",
        "patient = clinic.get_collection(\"Patient\")\n",
        "# check if is existing patient\n",
        "patient_data = patient.find_one({\"Name\": name}, {\"PatientID\": 1})\n",
        "if patient_data is None:\n",
        "    # generate new id\n",
        "    print(\"Generating new id...\", end=\"\")\n",
        "    patient_id = id_generator()\n",
        "else:\n",
        "    patient_id = patient_data[\"PatientID\"]\n",
        "    \n",
        "print(\"Keying in data...\")\n",
        "patient.insert_one({\"PatientID\": patient_id, \"Name\": name, \"AppointmentDate\": appt_date,\n",
        "                   \"AppointmentStartTime\": appt_start_time, \"DoctorAssigned\": doctor_assigned})\n",
        "print(\"Finished insertion!\")\n",
        "print(\"-\" * 50)\n",
        "client.close()"
      ],
      "execution_count": null,
      "outputs": [
        {
          "output_type": "stream",
          "text": [
            "Enter new patient:\n",
            "Enter patient's name: emily oooo 99\n",
            "Expected only space and letters\n",
            "Enter patient's name: emily ong\n",
            "Enter appointment date in DDMMYYYY format: 23rync32,o;cew\n",
            "Expected DDMMYYYY format!\n",
            "Enter appointment date in DDMMYYYY format: \n",
            "Expected DDMMYYYY format!\n",
            "Enter appointment date in DDMMYYYY format: 09081999\n",
            "Enter valid date!\n",
            "Enter appointment date in DDMMYYYY format: 09092020\n",
            "Enter appointment start time in 24hr HHMM format: 9988\n",
            "Expected a valid time!\n",
            "Enter appointment start time in 24hr HHMM format: 2666\n",
            "Expected a valid time!\n",
            "Enter appointment start time in 24hr HHMM format: jjjj\n",
            "Expected integer format in HHMM!\n",
            "Enter appointment start time in 24hr HHMM format: \n",
            "Expected a HHMM format!\n",
            "Enter appointment start time in 24hr HHMM format: 200\n",
            "Expected a HHMM format!\n",
            "Enter appointment start time in 24hr HHMM format: 2000\n",
            "Enter doctor assigned: Doctor 44\n",
            "Expected either Doctor 1, Doctor 2 or Doctor 3!\n",
            "Enter doctor assigned: Doctor 1\n",
            "------------------------------\n",
            "Generating new id...Keying in data...\n",
            "Finished insertion!\n",
            "--------------------------------------------------\n"
          ],
          "name": "stdout"
        }
      ]
    },
    {
      "cell_type": "markdown",
      "metadata": {
        "id": "AvkzSjtffy_T",
        "colab_type": "text"
      },
      "source": [
        "# Task 4.3"
      ]
    },
    {
      "cell_type": "code",
      "metadata": {
        "id": "c0E71ooIfy_U",
        "colab_type": "code",
        "colab": {},
        "outputId": "80bc5eca-08ba-4f74-dab4-0137c404ddc6"
      },
      "source": [
        "import pymongo\n",
        "\n",
        "# connect to mongodb\n",
        "client = pymongo.MongoClient(\"127.0.0.1\", 27017)\n",
        "clinic = client.get_database(\"Clinic\")\n",
        "patient = clinic.get_collection(\"Patient\")\n",
        "\n",
        "# handle double bookings\n",
        "patient_data = patient.find({}).sort(\"Name\")\n",
        "patient_bookings = {} # key:name, value:bookings\n",
        "for data in patient_data:\n",
        "    name = data[\"Name\"]\n",
        "    if name not in patient_bookings:\n",
        "        patient_bookings[name] = set()\n",
        "    curr_booking = len(patient_bookings[name])\n",
        "    patient_bookings[name].add((data[\"AppointmentDate\"], data[\"AppointmentStartTime\"]))\n",
        "    # check for duplicates\n",
        "    if len(patient_bookings) == curr_booking:\n",
        "        print(\"Deleting duplicates...\")\n",
        "        patient.delete_one(data)\n",
        "        \n",
        "\n",
        "# handle appt clashes\n",
        "# clash occurs when we have same doctor-appt_start_time-appt_date\n",
        "patient_data = patient.find().sort(\"Name\")\n",
        "available_timings = {}\n",
        "for i in range (10, 21): # assume clinic works from 10am to 8pm and each appt is 1hr\n",
        "    available_timings[str(i)+\"00\"] = 0\n",
        "patient_appts = {} # key:name, value:bookings\n",
        "for data in patient_data:\n",
        "    name = data[\"Name\"]\n",
        "    if name not in patient_appts:\n",
        "        patient_appts[name] = set()\n",
        "    curr_appts = len(patient_appts[name])\n",
        "    patient_appts[name].add((data[\"DoctorAssigned\"], data[\"AppointmentDate\"], data[\"AppointmentStartTime\"]))\n",
        "    if len(patient_appts[name]) == curr_appts:\n",
        "        print(\"Rescheduling...\")\n",
        "        # get the doctor's schedule\n",
        "        doctor_schedule = patient.find({\"DoctorAssigned\": data[\"DoctorAssigned\"], \n",
        "                                        \"AppointmentDate\": data[\"AppointmentDate\"]}, {\"AppointmentStartTime\": 1}).sort(\"AppointmentStartTime\")\n",
        "        for schedule in doctor_schedule:\n",
        "            available_timings[schedule[\"AppointmentStartTime\"]] = 1\n",
        "        for timing in available_timings:\n",
        "            if not available_timings[timing]:\n",
        "                print(f\"Reassigning to {timing}...\")\n",
        "                patient.update_one(data, {\"$set\": {\"AppointmentStartTime\": timing}})\n",
        "        \n",
        "client.close()"
      ],
      "execution_count": null,
      "outputs": [
        {
          "output_type": "stream",
          "text": [
            "Deleting duplicates...\n",
            "Deleting duplicates...\n",
            "Deleting duplicates...\n"
          ],
          "name": "stdout"
        }
      ]
    },
    {
      "cell_type": "code",
      "metadata": {
        "id": "EMgpqPc3fy_g",
        "colab_type": "code",
        "colab": {},
        "outputId": "8f1281f3-fc6d-4739-f42a-5797567856e9"
      },
      "source": [
        "print(ord(\" \"))\n",
        "print(ord(\"a\"))\n",
        "print(ord(\"z\"))\n",
        "print(ord(\"A\"))\n",
        "print(ord(\"Z\"))"
      ],
      "execution_count": null,
      "outputs": [
        {
          "output_type": "stream",
          "text": [
            "32\n",
            "97\n",
            "122\n",
            "65\n",
            "90\n"
          ],
          "name": "stdout"
        }
      ]
    },
    {
      "cell_type": "markdown",
      "metadata": {
        "id": "MRGJeWISfy_q",
        "colab_type": "text"
      },
      "source": [
        "# Task 4.4"
      ]
    },
    {
      "cell_type": "code",
      "metadata": {
        "id": "9MgVVIqVfy_r",
        "colab_type": "code",
        "colab": {},
        "outputId": "9520052a-df12-481d-a934-d70c819b46b8"
      },
      "source": [
        "import pymongo\n",
        "\n",
        "# connect to mongodb\n",
        "client = pymongo.MongoClient(\"127.0.0.1\", 27017)\n",
        "clinic = client.get_database(\"Clinic\")\n",
        "patient = clinic.get_collection(\"Patient\")\n",
        "\n",
        "# determine top-3 paying patients\n",
        "# patients = patient.find({}, {\"Name\": 1, \"AmountCharged\": 1}).sort(\"AmountCharged\", pymongo.DESCENDING)\n",
        "patients = patient.aggregate([\n",
        "    {\"$group\":\n",
        "     {\"_id\": \"$Name\",\n",
        "     \"TotalCharged\": {\"$sum\": \"$AmountCharged\"}\n",
        "     }\n",
        "    }\n",
        "])\n",
        "count = 0\n",
        "print(\"The top-3 paying patients are...\")\n",
        "\n",
        "patient_data = []\n",
        "for data in patients:\n",
        "    patient_data.append([data[\"TotalCharged\"], data[\"_id\"]])\n",
        "\n",
        "# implement sorting algorithm\n",
        "def partition (arr, start, end):\n",
        "    pivot = arr[end][0]\n",
        "    pi = start - 1\n",
        "    for i in range (start, end):\n",
        "        if arr[i][0] > pivot:\n",
        "            pi += 1\n",
        "            arr[pi], arr[i] = arr[i], arr[pi]\n",
        "    pi += 1\n",
        "    arr[pi], arr[end] = arr[end], arr[pi]\n",
        "    return pi\n",
        "    \n",
        "def quick_sort (arr, start, end):\n",
        "    if start < end:\n",
        "        pi = partition(arr, start, end)\n",
        "        quick_sort(arr, start, pi - 1)\n",
        "        quick_sort(arr, pi + 1, end)\n",
        "    return arr\n",
        "\n",
        "patient_data = quick_sort(patient_data, 0, len(patient_data) - 1)\n",
        "    \n",
        "for data in patient_data:\n",
        "    print(f\"{count + 1}. {data[1]} (${data[0]})\")\n",
        "    count += 1\n",
        "    if count == 3:\n",
        "        break\n",
        "    \n",
        "client.close()"
      ],
      "execution_count": null,
      "outputs": [
        {
          "output_type": "stream",
          "text": [
            "The top-3 paying patients are...\n",
            "1. John Ng ($990.0)\n",
            "2. Richard Lee ($670.0)\n",
            "3. Lily Soh ($450.0)\n"
          ],
          "name": "stdout"
        }
      ]
    },
    {
      "cell_type": "code",
      "metadata": {
        "id": "xtXYpc4Yfy_1",
        "colab_type": "code",
        "colab": {},
        "outputId": "56213301-0771-47bc-e049-02a6e6c0d3cd"
      },
      "source": [
        "import pymongo\n",
        "\n",
        "# connect to mongodb\n",
        "client = pymongo.MongoClient(\"127.0.0.1\", 27017)\n",
        "clinic = client.get_database(\"Clinic\")\n",
        "patient = clinic.get_collection(\"Patient\")\n",
        "\n",
        "patients = patient.find({}).sort(\"PatientName\")\n",
        "patient_names = set()\n",
        "\n",
        "duplicated_patients = set()\n",
        "\n",
        "for data in patients:\n",
        "    name = data[\"Name\"]\n",
        "    patient_id = data[\"PatientID\"]\n",
        "    curr_length = len(patient_names)\n",
        "    patient_names.add(name)\n",
        "    if curr_length == len(patient_names):\n",
        "        duplicated_patients.add((name, patient_id))\n",
        "\n",
        "print(\"The patients are...\")\n",
        "print(\"Name\\tPatient ID\")\n",
        "for duplicated_patient in duplicated_patients:\n",
        "    print(f\"{duplicated_patient[0]}\\t{duplicated_patient[1]}\")\n",
        "client.close()"
      ],
      "execution_count": null,
      "outputs": [
        {
          "output_type": "stream",
          "text": [
            "The patients are...\n",
            "Name\tPatient ID\n",
            "John Ng\t2\n",
            "Lily Soh\t3\n",
            "Kyle Teo\t5\n",
            "John Ng\t4\n",
            "Richard Lee\t6\n",
            "Peter Tan\t1\n"
          ],
          "name": "stdout"
        }
      ]
    },
    {
      "cell_type": "code",
      "metadata": {
        "id": "PbqcVVK8fy_8",
        "colab_type": "code",
        "colab": {}
      },
      "source": [
        ""
      ],
      "execution_count": null,
      "outputs": []
    }
  ]
}