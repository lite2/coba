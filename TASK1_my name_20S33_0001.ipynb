{
 "cells": [
  {
   "cell_type": "code",
   "execution_count": 1,
   "metadata": {},
   "outputs": [
    {
     "name": "stdout",
     "output_type": "stream",
     "text": [
      "Number of DNF: 30\n",
      "Total number of participants: 106\n",
      "Percentage who finish race: 71.7\n"
     ]
    }
   ],
   "source": [
    "file = open(\"marathon.csv\",\"r\")\n",
    "allData = []\n",
    "file.readline()\n",
    "for line in file:\n",
    "    allData.append(line.strip().split(','))\n",
    "file.close()\n",
    "\n",
    "countDNF = 0\n",
    "for i in range(len(allData)):\n",
    "    if allData[i][2] == 'DNF':\n",
    "        countDNF += 1\n",
    "print(\"Number of DNF:\",countDNF)\n",
    "print(\"Total number of participants:\", len(allData))\n",
    "print(\"Percentage who finish race:\", round(( (len(allData)-countDNF)/len(allData)*100 ),1))"
   ]
  },
  {
   "cell_type": "code",
   "execution_count": 2,
   "metadata": {},
   "outputs": [],
   "source": [
    "def insertionSort(array):\n",
    "    for j in range(1, len(array)):\n",
    "        i = j-1\n",
    "        temp = array[j]\n",
    "        while ((i>=0) and temp < array[i]):\n",
    "            array[i+1] = array[i]\n",
    "            i=i-1\n",
    "        array[i+1] = temp\n",
    "    return array"
   ]
  },
  {
   "cell_type": "code",
   "execution_count": 3,
   "metadata": {},
   "outputs": [
    {
     "name": "stdout",
     "output_type": "stream",
     "text": [
      "Rank Country Name                          Timing    \n",
      "1    KEN     Eliud KIPCHOGE                2:08:38   \n",
      "2    NED     Abdi NAGEEYE                  2:09:58   \n",
      "3    BEL     Bashir ABDI                   2:10:00   \n",
      "4    KEN     Lawrence CHERONO              2:10:02   \n",
      "5    ESP     Ayad LAMDASSEM                2:10:16   \n",
      "6    JPN     Suguru OSAKO                  2:10:41   \n",
      "7    TAN     Alphonce Felix SIMBU          2:11:35   \n",
      "8    USA     Galen RUPP                    2:11:41   \n",
      "9    MAR     Othmane EL GOUMRI             2:11:58   \n",
      "10   BEL     Koen NAERT                    2:12:13   \n",
      "11   MAR     Mohamed Reda EL AARABY        2:12:22   \n",
      "12   FRA     Nicolas NAVARRO               2:12:50   \n",
      "13   ISR     Maru TEFERI                   2:13:02   \n",
      "14   ERI     Goitom KIFLE                  2:13:22   \n",
      "15   COL     Jeison Alexander SUAREZ       2:13:29   \n",
      "16   ART     Tachlowini GABRIYESOS         2:14:02   \n",
      "17   FRA     Morhad AMDOUNI                2:14:33   \n",
      "18   MAR     Hamza SAHLI                   2:14:48   \n",
      "19   CHN     Shaohui YANG                  2:14:58   \n",
      "20   ITA     Eyob GHEBREHIWET FANIEL       2:15:11   \n"
     ]
    }
   ],
   "source": [
    "for i in range(len(allData)):\n",
    "    allData[i].insert(0,allData[i][2])\n",
    "\n",
    "sortedData = insertionSort(allData)\n",
    "print(\"{:<5}{:<8}{:<30}{:<10}\".format(\"Rank\",\"Country\",\"Name\",\"Timing\"))\n",
    "for i in range(20):\n",
    "    print(\"{:<5}{:<8}{:<30}{:<10}\".\\\n",
    "          format(i+1,sortedData[i][2],sortedData[i][1],sortedData[i][0]))"
   ]
  }
 ],
 "metadata": {
  "kernelspec": {
   "display_name": "Python 3",
   "language": "python",
   "name": "python3"
  },
  "language_info": {
   "codemirror_mode": {
    "name": "ipython",
    "version": 3
   },
   "file_extension": ".py",
   "mimetype": "text/x-python",
   "name": "python",
   "nbconvert_exporter": "python",
   "pygments_lexer": "ipython3",
   "version": "3.6.4"
  }
 },
 "nbformat": 4,
 "nbformat_minor": 2
}
